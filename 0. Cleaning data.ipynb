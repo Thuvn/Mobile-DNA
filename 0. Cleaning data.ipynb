{
 "cells": [
  {
   "cell_type": "markdown",
   "metadata": {},
   "source": [
    "## Loading data"
   ]
  },
  {
   "cell_type": "code",
   "execution_count": 1,
   "metadata": {
    "collapsed": true
   },
   "outputs": [],
   "source": [
    "import pandas as pd\n",
    "path1 = '/Users/administrator/Documents/# Belgium study/1 Ghent/\\\n",
    "17. Thesis/Fwd__MobileDNA_-_Data_and_scripts/thesis/core_appevents.csv'\n",
    "data_events = pd.read_csv(path1, sep =';')"
   ]
  },
  {
   "cell_type": "code",
   "execution_count": 8,
   "metadata": {
    "collapsed": true
   },
   "outputs": [],
   "source": [
    "del data_events['Unnamed: 0']"
   ]
  },
  {
   "cell_type": "markdown",
   "metadata": {},
   "source": [
    "### First 5 record lines"
   ]
  },
  {
   "cell_type": "code",
   "execution_count": 9,
   "metadata": {},
   "outputs": [
    {
     "name": "stdout",
     "output_type": "stream",
     "text": [
      "            application  battery  data_version                  endTime  \\\n",
      "0   com.facebook.katana     50.0           1.4  2018-03-01 16:28:06.404   \n",
      "1  com.snapchat.android     50.0           1.4  2018-03-01 16:41:41.418   \n",
      "2  com.snapchat.android     39.0           1.4  2018-03-01 17:05:22.160   \n",
      "3  com.android.systemui     39.0           1.4  2018-03-01 17:05:38.362   \n",
      "4  com.snapchat.android     39.0           1.4  2018-03-01 17:10:40.043   \n",
      "\n",
      "   endTimeMillis                                    id  latitude  longitude  \\\n",
      "0  1519918086404  c261db37-a4c0-4cb0-9604-31a1682095eb       0.0        0.0   \n",
      "1  1519918901418  c261db37-a4c0-4cb0-9604-31a1682095eb       0.0        0.0   \n",
      "2  1519920322160  c261db37-a4c0-4cb0-9604-31a1682095eb       0.0        0.0   \n",
      "3  1519920338362  c261db37-a4c0-4cb0-9604-31a1682095eb       0.0        0.0   \n",
      "4  1519920640043  c261db37-a4c0-4cb0-9604-31a1682095eb       0.0        0.0   \n",
      "\n",
      "      model  notification     session                startTime  \\\n",
      "0  SM-A310F         False  1519918078  2018-03-01 16:28:03.610   \n",
      "1  SM-A310F         False  1519918297  2018-03-01 16:31:40.813   \n",
      "2  SM-A310F         False  1519919607  2018-03-01 17:04:24.020   \n",
      "3  SM-A310F         False  1519919607  2018-03-01 17:05:22.249   \n",
      "4  SM-A310F         False  1519920545  2018-03-01 17:09:07.523   \n",
      "\n",
      "   startTimeMillis                   duration  duration_s app_genre_id  \\\n",
      "0    1519918083610  0 days 00:00:02.794000000       2.794       SOCIAL   \n",
      "1    1519918300813  0 days 00:10:00.605000000     600.605       SOCIAL   \n",
      "2    1519920264020  0 days 00:00:58.140000000      58.140       SOCIAL   \n",
      "3    1519920322249  0 days 00:00:16.113000000      16.113      unknown   \n",
      "4    1519920547523  0 days 00:01:32.520000000      92.520       SOCIAL   \n",
      "\n",
      "   app_name  \n",
      "0  Facebook  \n",
      "1  Snapchat  \n",
      "2  Snapchat  \n",
      "3   unknown  \n",
      "4  Snapchat  \n"
     ]
    }
   ],
   "source": [
    "print(data_events.head())"
   ]
  },
  {
   "cell_type": "markdown",
   "metadata": {},
   "source": [
    "### Name of columns"
   ]
  },
  {
   "cell_type": "code",
   "execution_count": 29,
   "metadata": {},
   "outputs": [
    {
     "data": {
      "text/plain": [
       "Index(['application', 'battery', 'data_version', 'endTime', 'endTimeMillis',\n",
       "       'id', 'latitude', 'longitude', 'model', 'notification', 'session',\n",
       "       'startTime', 'startTimeMillis', 'duration', 'duration_s',\n",
       "       'app_genre_id', 'app_name'],\n",
       "      dtype='object')"
      ]
     },
     "execution_count": 29,
     "metadata": {},
     "output_type": "execute_result"
    }
   ],
   "source": [
    "data_events.columns"
   ]
  },
  {
   "cell_type": "markdown",
   "metadata": {},
   "source": [
    "### Keep interst variables"
   ]
  },
  {
   "cell_type": "code",
   "execution_count": 10,
   "metadata": {
    "collapsed": true
   },
   "outputs": [],
   "source": [
    "dat = data_events.loc[:, ['application', 'battery','id', 'session', 'duration_s',\n",
    "                          'app_name','startTime', 'startTimeMillis', 'endTime', \n",
    "                          'endTimeMillis',]]"
   ]
  },
  {
   "cell_type": "code",
   "execution_count": 11,
   "metadata": {
    "collapsed": true
   },
   "outputs": [],
   "source": [
    "dat = dat.loc[dat['app_name'] != 'unknown',:]"
   ]
  },
  {
   "cell_type": "markdown",
   "metadata": {},
   "source": [
    "### Select device which has 21 days using"
   ]
  },
  {
   "cell_type": "code",
   "execution_count": 12,
   "metadata": {
    "collapsed": true
   },
   "outputs": [],
   "source": [
    "dat['date'] = dat.startTime.str[8:10]"
   ]
  },
  {
   "cell_type": "code",
   "execution_count": 13,
   "metadata": {
    "collapsed": true
   },
   "outputs": [],
   "source": [
    "d = dat.groupby(['id', 'date']).count()"
   ]
  },
  {
   "cell_type": "code",
   "execution_count": 14,
   "metadata": {
    "collapsed": true
   },
   "outputs": [],
   "source": [
    "d.reset_index(level = 0, inplace = True)"
   ]
  },
  {
   "cell_type": "code",
   "execution_count": 15,
   "metadata": {
    "collapsed": true
   },
   "outputs": [],
   "source": [
    "d.reset_index(level = 0, inplace = True)"
   ]
  },
  {
   "cell_type": "code",
   "execution_count": 16,
   "metadata": {
    "collapsed": true
   },
   "outputs": [],
   "source": [
    "d= d.groupby('id').count()"
   ]
  },
  {
   "cell_type": "code",
   "execution_count": 17,
   "metadata": {
    "collapsed": true
   },
   "outputs": [],
   "source": [
    "d.reset_index(level = 0, inplace = True)"
   ]
  },
  {
   "cell_type": "code",
   "execution_count": 18,
   "metadata": {
    "collapsed": true
   },
   "outputs": [],
   "source": [
    "d = d.loc[d.date==21,:]"
   ]
  },
  {
   "cell_type": "code",
   "execution_count": 19,
   "metadata": {
    "collapsed": true
   },
   "outputs": [],
   "source": [
    "d21 = list(d.id) # list of 2009 users/devices"
   ]
  },
  {
   "cell_type": "code",
   "execution_count": 20,
   "metadata": {
    "collapsed": true
   },
   "outputs": [],
   "source": [
    "dat = dat.loc[dat.id.isin(d21)]"
   ]
  },
  {
   "cell_type": "markdown",
   "metadata": {},
   "source": [
    "### Create idnew (shorter) and ids (id session) based on idnew (device) and session"
   ]
  },
  {
   "cell_type": "code",
   "execution_count": 21,
   "metadata": {
    "collapsed": true
   },
   "outputs": [],
   "source": [
    "id_list = list(dat.id.unique())\n",
    "id_dic = {i:id_list.index(i)+1 for i in id_list}\n",
    "col = [id_dic[i] for i in list(dat.id)]\n",
    "dat['newid']=col"
   ]
  },
  {
   "cell_type": "code",
   "execution_count": 22,
   "metadata": {
    "collapsed": true
   },
   "outputs": [],
   "source": [
    "dat['ids'] = dat['newid'].map(str) + '_'+ dat['session'].map(str) # id session"
   ]
  },
  {
   "cell_type": "markdown",
   "metadata": {},
   "source": [
    "### Shorten the name of app, and group some app with the same function "
   ]
  },
  {
   "cell_type": "code",
   "execution_count": 23,
   "metadata": {
    "collapsed": true
   },
   "outputs": [],
   "source": [
    "dat1 = dat\n",
    "dat1 = dat1.replace(['Facebook_Lite'], ['Facebook']) \n",
    "dat1 = dat1.replace(['Microsoft_Outlook', 'Samsung_Email', 'Gmail'], \n",
    "                    ['Email', 'Email', 'Email'])\n",
    "dat1 = dat1.replace(['Google_Chrome:_Fast_&_Secure'], ['Google']) \n",
    "dat1 = dat1.replace(['2048_(Ads_Free)', 'Classic_Tetris', '4_in_a_row', \n",
    "                     'Burger', \"What's_the_Logo\", 'Rider', 'Rush'], \n",
    "                    ['Game', 'Game', 'Game', 'Game', 'Game', 'Game', 'Game']) \n",
    "dat1 = dat1.replace(['Samsung_Gallery', 'Google_Photos', 'VSCO',\n",
    "       'PhotoScan_by_Google_Photos', 'Pixlr_–_Free_Photo_Editor',\n",
    "       'Photo_Editor_by_Aviary', 'OnePlus_Gallery'], \n",
    "        ['Photos', 'Photos', 'Photos', 'Photos', 'Photos', 'Photos', 'Photos']) \n",
    "\n",
    "dat1 = dat1.replace(['Proximus_TV', 'Netflix', 'Humo’s_tv-gids'], ['TV', 'TV', 'TV']) \n",
    "\n",
    "dat1 = dat1.replace(['WhatsApp_Messenger','Messenger_–_Text_and_Video_Chat_for_Free', \n",
    "                     'TripAdvisor_Hotels_Flights_Restaurants_Attractions', \n",
    "                     'Sandbox_-_Color_by_Number_Coloring_Pages',\n",
    "                    'Waze_-_GPS,_Maps,_Traffic_Alerts_&_Live_Navigation',\n",
    "                    'Evernote_–_Take_Notes,_Plan,_Organize',\n",
    "                    'Strava:_Track_Running,_Cycling_&_Swimming_With_GPS', \n",
    "                     'Maps_-_Navigation_&_Transit'], \n",
    "                    ['WhatsApp', 'Messenger', 'TripAdvisor', 'Sandbox','Waze', \n",
    "                     'Evernote', 'Strava', 'Map']) \n",
    "dat1 = dat1.replace([ 'Microsoft_Excel', 'Microsoft_Word', 'Microsoft_PowerPoint'], \n",
    "                    ['Microsoft_Office','Microsoft_Office','Microsoft_Office']) \n",
    "dat1 = dat1.replace(['D-day_Counter_widget', 'SoundCloud_-_Music_&_Audio'], \n",
    "                    ['Day_counter','Music_Audio' ])"
   ]
  },
  {
   "cell_type": "code",
   "execution_count": 24,
   "metadata": {
    "collapsed": true
   },
   "outputs": [],
   "source": [
    "dat1 = dat1.replace(['AZ_Screen_Recorder_-_No_Root', 'Samsung_Calculator', \n",
    "                     'Google_Play_services', 'Radioplus', \n",
    "                     'Vins_et_Millesimes', 'Vivino:_Wine_Made_Easy', 'dS_Nieuws'], \n",
    "                    ['Recorder', 'Calculator', 'Google Play', 'Radio', \n",
    "                     'Wine','Wine', 'News' ])\n",
    "dat1 = dat1.replace(['Easy_Banking_App', 'KBC_Mobile', 'KBC_Sign', 'Fintro_Easy_Banking', \n",
    "                     'Bancontact', 'Keytrade_Bank', 'Payconiq'], \n",
    "                    ['Bank app', 'Bank app','Bank app','Bank app','Bank app', \n",
    "                     'Bank app','Bank app'])\n",
    "dat1 = dat1.replace(['De_Standaard-_Krant_&_dS_Avond', 'Booking.com_Travel_Deals', \n",
    "                     'Jive_Daily:_Intranet_on_the_go',  'Skype_for_Business_for_Android', \n",
    "                     'Total_Services:_Station_finder', 'Viking_App_(Official)', \n",
    "                     'Joyn_–_Live_the_city'], \n",
    "                    ['News', 'Booking', 'Jive Daily', 'Skype', 'Station finder', \n",
    "                     'Viking', 'Joyn–Live the city'])\n",
    "dat1 = dat1.replace(['VRT_NWS', 'DeMorgen.be_Mobile','Het_Nieuwsblad_Krant', 'Yelo_Play', \n",
    "                     'mobile-pocket_loyalty_cards', 'Office_Remote_for_Android'],                    \n",
    "                    ['News', 'News', 'News','Movies', 'mobile pocket', 'Office Remote'])\n",
    "dat1 = dat1.replace(['Samsung_Internet_Browser', \n",
    "                     'Radio_Belgium:_FM_Radio_and_Internet_Radio'],\n",
    "                    ['Browser', 'Radio'])\n",
    "dat1 = dat1.replace(['QR_BARCODE_SCANNER', 'QR_Droid'],                    \n",
    "                    ['QR', 'QR'])\n"
   ]
  },
  {
   "cell_type": "markdown",
   "metadata": {},
   "source": [
    "### Delete not app"
   ]
  },
  {
   "cell_type": "code",
   "execution_count": 25,
   "metadata": {
    "collapsed": true
   },
   "outputs": [],
   "source": [
    "dat1= dat1.loc[dat1['app_name']!='Update_for_Old_Versions',:] \n",
    "dat1= dat1.loc[dat1['app_name']!='Control_Center_IOS_11',:]\n",
    "dat1= dat1.loc[dat1['app_name']!='Samsung_Keyboard',:]\n",
    "dat1= dat1.loc[dat1['app_name']!='Magnifier_+_Flashlight',:] \n",
    "dat1= dat1.loc[dat1['app_name']!='Call_Connect',:] \n",
    "dat1= dat1.loc[dat1['app_name']!='Super-Bright_LED_Flashlight',:]\n",
    "dat1= dat1.loc[dat1['app_name']!='Blue_Light_Filter_-_Night_Mode,_Eye_Care',:]\n",
    "dat1= dat1.loc[dat1['app_name']!='Microsoft_Authenticator',:]\n",
    "dat1= dat1.loc[dat1['app_name']!='Next_Lock_Screen',:]\n",
    "dat1= dat1.loc[dat1['app_name']!='Gboard_-_the_Google_Keyboard',:] \n",
    "dat1= dat1.loc[dat1['app_name']!='My_Device',:] "
   ]
  },
  {
   "cell_type": "markdown",
   "metadata": {},
   "source": [
    "### List of app name after cleaning"
   ]
  },
  {
   "cell_type": "code",
   "execution_count": 26,
   "metadata": {},
   "outputs": [
    {
     "data": {
      "text/plain": [
       "array(['Facebook', 'Snapchat', 'Instagram', 'Messenger', 'WhatsApp',\n",
       "       'Day_counter', 'Photos', 'Music_Audio', 'Google', 'Recorder',\n",
       "       'Flipboard_Briefing', 'My_Orange_BE', 'Calculator', 'Photomath',\n",
       "       'Sandbox', 'YouTube', 'Google Play', 'Game', 'Device_Maintenance',\n",
       "       'Email', 'Browser', 'Google_Drive', 'Radio', 'LinkedIn', 'Wine',\n",
       "       'News', 'Google_Translate', 'SNCB/NMBS', 'Waze', 'MyProximus',\n",
       "       'Booking', 'Map', 'Microsoft_Office', 'Sporza_Voetbal', 'Bank app',\n",
       "       'Dropbox', 'Jive Daily', 'Skype', 'itsme', 'Station finder',\n",
       "       'Spencer_for_Proximus', 'QR', 'TripAdvisor', 'Twitter', 'mobileDNA',\n",
       "       'TV', 'Spotify_Music', 'Tinder', 'Adobe_Acrobat_Reader',\n",
       "       'TelenetMobile', 'Google_Calendar', 'Xtra', 'Google_Docs',\n",
       "       'Joyn–Live the city', 'Immoweb', 'Movies', 'Pinterest',\n",
       "       'Microsoft_OneDrive', 'Viking', 'Doccle', 'bol.com', 'Slack',\n",
       "       '4411_Mobility_NEW', 'Samsung_Health', 'Sporza', 'Evernote',\n",
       "       'Strava', 'musical.ly', 'Collect&Go', 'Pocket',\n",
       "       'Samsung_Smart_View', 'Intune_Company_Portal', 'Sleep_as_Android',\n",
       "       'Proximus_Cloud', 'mobile pocket', 'Office Remote',\n",
       "       'OpenScape_Mobile', 'Etmaal_2018'], dtype=object)"
      ]
     },
     "execution_count": 26,
     "metadata": {},
     "output_type": "execute_result"
    }
   ],
   "source": [
    "dat1.app_name.unique()"
   ]
  },
  {
   "cell_type": "markdown",
   "metadata": {},
   "source": [
    "### Saving cleaned data for later use"
   ]
  },
  {
   "cell_type": "code",
   "execution_count": 27,
   "metadata": {
    "collapsed": true
   },
   "outputs": [],
   "source": [
    "dat1.to_csv('dat6.csv')"
   ]
  },
  {
   "cell_type": "markdown",
   "metadata": {},
   "source": [
    "### 5 record lines in cleaned dataset"
   ]
  },
  {
   "cell_type": "code",
   "execution_count": 28,
   "metadata": {},
   "outputs": [
    {
     "name": "stdout",
     "output_type": "stream",
     "text": [
      "            application  battery                                    id  \\\n",
      "0   com.facebook.katana     50.0  c261db37-a4c0-4cb0-9604-31a1682095eb   \n",
      "1  com.snapchat.android     50.0  c261db37-a4c0-4cb0-9604-31a1682095eb   \n",
      "2  com.snapchat.android     39.0  c261db37-a4c0-4cb0-9604-31a1682095eb   \n",
      "4  com.snapchat.android     39.0  c261db37-a4c0-4cb0-9604-31a1682095eb   \n",
      "5  com.snapchat.android     30.0  c261db37-a4c0-4cb0-9604-31a1682095eb   \n",
      "\n",
      "      session  duration_s  app_name                startTime  startTimeMillis  \\\n",
      "0  1519918078       2.794  Facebook  2018-03-01 16:28:03.610    1519918083610   \n",
      "1  1519918297     600.605  Snapchat  2018-03-01 16:31:40.813    1519918300813   \n",
      "2  1519919607      58.140  Snapchat  2018-03-01 17:04:24.020    1519920264020   \n",
      "4  1519920545      92.520  Snapchat  2018-03-01 17:09:07.523    1519920547523   \n",
      "5  1519920827      91.765  Snapchat  2018-03-01 17:13:53.694    1519920833694   \n",
      "\n",
      "                   endTime  endTimeMillis date  newid           ids  \n",
      "0  2018-03-01 16:28:06.404  1519918086404   01      1  1_1519918078  \n",
      "1  2018-03-01 16:41:41.418  1519918901418   01      1  1_1519918297  \n",
      "2  2018-03-01 17:05:22.160  1519920322160   01      1  1_1519919607  \n",
      "4  2018-03-01 17:10:40.043  1519920640043   01      1  1_1519920545  \n",
      "5  2018-03-01 17:15:25.459  1519920925459   01      1  1_1519920827  \n"
     ]
    }
   ],
   "source": [
    "print(dat1.head())"
   ]
  },
  {
   "cell_type": "markdown",
   "metadata": {},
   "source": [
    "### Summary \n",
    "\n",
    "day 1 March to 21 March\n",
    "\n",
    "2009 id devices\n",
    "\n",
    "1512590: sessions\n",
    "\n",
    "3760243 lines/ records\n"
   ]
  }
 ],
 "metadata": {
  "kernelspec": {
   "display_name": "Python 3",
   "language": "python",
   "name": "python3"
  },
  "language_info": {
   "codemirror_mode": {
    "name": "ipython",
    "version": 3
   },
   "file_extension": ".py",
   "mimetype": "text/x-python",
   "name": "python",
   "nbconvert_exporter": "python",
   "pygments_lexer": "ipython3",
   "version": "3.6.8"
  }
 },
 "nbformat": 4,
 "nbformat_minor": 2
}
