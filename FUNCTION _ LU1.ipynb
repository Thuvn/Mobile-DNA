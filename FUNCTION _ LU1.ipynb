{
 "cells": [
  {
   "cell_type": "markdown",
   "metadata": {},
   "source": [
    "use current app predict the next app"
   ]
  },
  {
   "cell_type": "markdown",
   "metadata": {},
   "source": [
    "### 1. Reading data"
   ]
  },
  {
   "cell_type": "code",
   "execution_count": 1,
   "metadata": {
    "collapsed": true
   },
   "outputs": [],
   "source": [
    "import pandas as pd"
   ]
  },
  {
   "cell_type": "code",
   "execution_count": 2,
   "metadata": {
    "collapsed": true
   },
   "outputs": [],
   "source": [
    "dat6 = pd.read_csv('dat6.csv')"
   ]
  },
  {
   "cell_type": "code",
   "execution_count": 10,
   "metadata": {
    "collapsed": true
   },
   "outputs": [],
   "source": [
    "# an example data of a user (id = 1)\n",
    "i = 3\n",
    "data = dat6.loc[dat6.newid == i, :]"
   ]
  },
  {
   "cell_type": "markdown",
   "metadata": {},
   "source": [
    "### 2. Function to read each id data, give the result is accuracies of the model to predict napps (1, 2, 3, 4, 5)"
   ]
  },
  {
   "cell_type": "code",
   "execution_count": 33,
   "metadata": {
    "collapsed": true
   },
   "outputs": [],
   "source": [
    "def LU1(data):\n",
    "    \n",
    "    from random import sample, seed\n",
    "\n",
    "    # 1 prepare train and test data\n",
    "    \n",
    "    data1 = data.sort_values('startTimeMillis')   \n",
    "    data2 = data1.groupby('ids').count()\n",
    "    data2.reset_index(level = 0, inplace = True)\n",
    "    ses2 = data2.loc[data2.startTime > 1,:]     \n",
    "    ses2_set = set(ses2.ids)   \n",
    "    data2s = data1.loc[data1.ids.isin(ses2_set)]        \n",
    "    list_apps = list(data2s.app_name.unique())\n",
    "    \n",
    "    # Cross validation k = 5\n",
    "    n = len(ses2_set)\n",
    "    k=5\n",
    "    m = n//k\n",
    "    \n",
    "    train = []\n",
    "    test = []\n",
    "    left = ses2_set.copy()\n",
    "\n",
    "    for i in range(5):\n",
    "        if i < 4:\n",
    "            seed(123)\n",
    "            tst = set(sample(left, m))\n",
    "            trn = ses2_set - tst\n",
    "\n",
    "            train_data = data2s.loc[data2s.ids.isin(trn)]\n",
    "            test_data = data2s.loc[data2s.ids.isin(tst)]\n",
    "\n",
    "            train.append(train_data)\n",
    "            test.append(test_data)\n",
    "\n",
    "            left -= tst\n",
    "        else:\n",
    "            tst = left\n",
    "            trn = ses2_set - tst\n",
    "\n",
    "            train_data = data2s.loc[data2s.ids.isin(trn)]\n",
    "            test_data = data2s.loc[data2s.ids.isin(tst)]\n",
    "\n",
    "            train.append(train_data)\n",
    "            test.append(test_data)\n",
    "       \n",
    "    \n",
    "    # 2 list of functions needed\n",
    "\n",
    "    # function count the walks from this to that in the list_walks\n",
    "    def count_walks(this, that):\n",
    "        r = 0\n",
    "        for walks in list_walks:\n",
    "            n = len(walks)\n",
    "            for i in range(n-1):           \n",
    "                if (walks[i] == this) & (walks[i+1] == that):\n",
    "                    r +=1\n",
    "        return r\n",
    "\n",
    "    # function predict the next app with the highest counting\n",
    "    def next_apps(app, napps):\n",
    "\n",
    "        total_walks = [count_walks(app, p) for p in list_apps]\n",
    "\n",
    "        dt = pd.DataFrame(\n",
    "        {'next_app': list_apps,\n",
    "         'total_walks': total_walks\n",
    "         })\n",
    "        dt = dt.sort_values('total_walks', ascending=False)         \n",
    "\n",
    "        if len(dt) == 0:\n",
    "            return []   \n",
    "        elif len(dt) == 1:\n",
    "            result = [dt.iloc[0,0]]\n",
    "        elif len(dt) == 2:\n",
    "            result = list(dt.iloc[:2,0])\n",
    "        elif len(dt) == 3:\n",
    "            result = list(dt.iloc[:3,0])\n",
    "        elif len(dt) == 4:\n",
    "            result = list(dt.iloc[:4,0])\n",
    "        else:\n",
    "            result = list(dt.iloc[:5,0])\n",
    "\n",
    "        ind = min(napps, len(result))\n",
    "\n",
    "        return result[:ind]\n",
    "\n",
    "    \n",
    "    # using the re_dict to check the test set\n",
    "    def hit_rate_result(re_dict, list_walks_test):\n",
    "        total, hit = 0, 0\n",
    "\n",
    "        for walks in list_walks_test:\n",
    "            total += len(walks) - 1\n",
    "\n",
    "            for i, walk in enumerate(walks[:-1]): \n",
    "                if walk in re_dict:\n",
    "                    if walks[i+1] in re_dict[walk]:\n",
    "                        hit += 1\n",
    "        return round(hit/total,4)\n",
    "\n",
    "\n",
    "    # 3. Prediction Accuracy\n",
    "\n",
    "    total_hit_rate = [0, 0, 0, 0, 0] # to keep the accuracy of LU1 model to predict number of apps\n",
    "\n",
    "    for i in range(len(train)): \n",
    "\n",
    "        data_train = train[i]\n",
    "        ses2_list = list(data_train.ids.unique())\n",
    "\n",
    "        list_walks = [] # keep the list of walks training\n",
    "        for s in ses2_list:\n",
    "\n",
    "            d = data_train.loc[data_train['ids'] == s,]\n",
    "            list_walks.append(list(d['app_name'])) \n",
    "        \n",
    "        # dictionary to keep the result of model training\n",
    "        re_dict_l = [{app: next_apps(app, napps) for app in list_apps} for napps in range(1,6)]\n",
    "\n",
    "        data_test = test[i]\n",
    "        ses_list_test = list(data_test.ids.unique())\n",
    "\n",
    "        list_walks_test = [] # keep the list of walks testing\n",
    "        for s in ses_list_test:\n",
    "\n",
    "            d = data_test.loc[data_test['ids'] == s,]\n",
    "            list_walks_test.append(list(d['app_name'])) \n",
    "\n",
    "        for i in range(5):\n",
    "            total_hit_rate[i] += hit_rate_result(re_dict_l[i], list_walks_test)\n",
    "\n",
    "    return [round(total_hit_rate[i] /len(train), 4) for i in range(5)]\n"
   ]
  },
  {
   "cell_type": "code",
   "execution_count": null,
   "metadata": {
    "collapsed": true
   },
   "outputs": [],
   "source": [
    "import time\n",
    "start = time.time() \n",
    "\n",
    "columns = [ 'LU1_1', 'LU1_2', 'LU1_3', 'LU1_4', 'LU1_5']\n",
    "Result = pd.DataFrame(index = range(1,2010), columns = columns)\n",
    "\n",
    "import time\n",
    "start = time.time()\n",
    "\n",
    "for i in range(1,2010):\n",
    "    data = dat6.loc[dat6.newid == i, :]\n",
    "    \n",
    "    accuracy = LU1(data)\n",
    "     \n",
    "    for j in range(5):\n",
    "        Result.iloc[i-1, j] = accuracy[j]\n",
    "\n",
    "Result.to_excel('LU1_2009.xlsx')\n",
    "\n",
    "end = time.time() \n",
    "print(end - start) "
   ]
  },
  {
   "cell_type": "code",
   "execution_count": null,
   "metadata": {
    "collapsed": true
   },
   "outputs": [],
   "source": []
  }
 ],
 "metadata": {
  "kernelspec": {
   "display_name": "Python 3",
   "language": "python",
   "name": "python3"
  },
  "language_info": {
   "codemirror_mode": {
    "name": "ipython",
    "version": 3
   },
   "file_extension": ".py",
   "mimetype": "text/x-python",
   "name": "python",
   "nbconvert_exporter": "python",
   "pygments_lexer": "ipython3",
   "version": "3.6.8"
  }
 },
 "nbformat": 4,
 "nbformat_minor": 2
}
