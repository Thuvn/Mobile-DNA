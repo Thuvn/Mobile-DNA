{
 "cells": [
  {
   "cell_type": "markdown",
   "metadata": {},
   "source": [
    "use last two apps to predict next app in linear model, mu = 0.5"
   ]
  },
  {
   "cell_type": "markdown",
   "metadata": {},
   "source": [
    "## 1. Reading and exploring data"
   ]
  },
  {
   "cell_type": "code",
   "execution_count": 1,
   "metadata": {
    "collapsed": true
   },
   "outputs": [],
   "source": [
    "import pandas as pd\n",
    "from random import sample, seed"
   ]
  },
  {
   "cell_type": "code",
   "execution_count": 2,
   "metadata": {
    "collapsed": true
   },
   "outputs": [],
   "source": [
    "dat6 = pd.read_csv('dat6.csv')"
   ]
  },
  {
   "cell_type": "markdown",
   "metadata": {},
   "source": [
    "### function calculate accuracy after cross validation"
   ]
  },
  {
   "cell_type": "code",
   "execution_count": 3,
   "metadata": {
    "collapsed": true
   },
   "outputs": [],
   "source": [
    "def BN(data):\n",
    "    \n",
    "    # prepare train and test datasets\n",
    "    \n",
    "    data1 = data.sort_values('startTimeMillis')\n",
    "    \n",
    "    data2 = data1.groupby('ids').count()\n",
    "    data2.reset_index(level = 0, inplace = True)\n",
    "    \n",
    "    ses3 = data2.loc[data2.startTime >= 3,:]\n",
    "    ses3_set = set(ses3.ids)\n",
    "    data3s = data1.loc[data1.ids.isin(ses3_set)]\n",
    "    \n",
    "    list_apps = list(data3s.app_name.unique())\n",
    "    \n",
    "    ### Cross validation k = 5\n",
    "    n = len(ses3_set)\n",
    "    k=5\n",
    "    m = n//k\n",
    "    \n",
    "    train = []\n",
    "    test = []\n",
    "    left = ses3_set.copy()\n",
    "\n",
    "    for i in range(5):\n",
    "        if i < 4:\n",
    "            seed(123)\n",
    "            tst = set(sample(left, m))\n",
    "            trn = ses3_set - tst\n",
    "\n",
    "            train_data = data3s.loc[data3s.ids.isin(trn)]\n",
    "            test_data = data3s.loc[data3s.ids.isin(tst)]\n",
    "\n",
    "            train.append(train_data)\n",
    "            test.append(test_data)\n",
    "\n",
    "            left -= tst\n",
    "        else:\n",
    "            tst = left\n",
    "            trn = ses3_set - tst\n",
    "\n",
    "            train_data = data3s.loc[data3s.ids.isin(trn)]\n",
    "            test_data = data3s.loc[data3s.ids.isin(tst)]\n",
    "\n",
    "            train.append(train_data)\n",
    "            test.append(test_data)\n",
    "        \n",
    "        \n",
    "    # list of functions needed\n",
    "        \n",
    "    # function count the walks from current app in the list_walks\n",
    "    def countc(c, a):\n",
    "        r = 0\n",
    "        for walks in list_walks:\n",
    "            n = len(walks)\n",
    "            for i in range(n-1):           \n",
    "                if (walks[i] == c) & (walks[i+1] == a):\n",
    "                    r +=1\n",
    "        return r\n",
    "\n",
    "    # function to calculate the conditional probability app a give current app c\n",
    "    def pc(a, c):\n",
    "        denominator = sum(countc(c,a) for a in list_apps)\n",
    "        if denominator == 0:\n",
    "            return 0.00\n",
    "        numerator = countc(c,a)\n",
    "        return round(numerator/denominator, 2)\n",
    "\n",
    "\n",
    "    # function count the walks from previous app in the list_walks\n",
    "    def countp(p, a):\n",
    "        r = 0\n",
    "        for walks in list_walks:\n",
    "            n = len(walks)\n",
    "            for i in range(n-2):           \n",
    "                if (walks[i] == p) & (walks[i+2] == a):\n",
    "                    r +=1\n",
    "        return r\n",
    "\n",
    "    # function to calculate the conditional probability app a give previous app p\n",
    "    def pp(a, p):\n",
    "        denominator = sum(countp(p,a) for a in list_apps)\n",
    "        if denominator == 0:\n",
    "            return 0.00\n",
    "        numerator = countp(p,a)\n",
    "        return round(numerator/denominator, 2)\n",
    "\n",
    "\n",
    "    # function calculate score of each app a, mu can be 0 to 1, here default is 0.5\n",
    "    def score(a,c,p, mu=0.5):\n",
    "        return mu*pc(a,c) +(1-mu)*pp(a,p)\n",
    "\n",
    "    def leadto(c,p):\n",
    "        destination = [(a,score(a,c,p)) for a in list_apps if score(a,c,p)>0]\n",
    "        if len(destination) == 0:\n",
    "            return None\n",
    "        dtdes = pd.DataFrame({'app': [a[0] for a in destination], 'score': [a[1] for a in destination]})\n",
    "        return dtdes.sort_values('score', ascending = False)\n",
    "\n",
    "    # function predict the next apps with the highest counting, 1<= napps <=5\n",
    "    def next_apps(p,c, napps):\n",
    "        dt = leadto(c,p)\n",
    "        \n",
    "        if dt is None:\n",
    "            return set()   \n",
    "        if len(dt) == 1:\n",
    "            result = [dt.iloc[0,0]]\n",
    "        elif len(dt) == 2:\n",
    "            result = list(dt.iloc[:2,0])\n",
    "        elif len(dt) == 3:\n",
    "            result = list(dt.iloc[:3,0])\n",
    "        elif len(dt) == 4:\n",
    "            result = list(dt.iloc[:4,0])\n",
    "        else:\n",
    "            result = list(dt.iloc[:5,0])\n",
    "\n",
    "        ind = min(napps, len(result))\n",
    "    \n",
    "        return result[:ind]\n",
    "\n",
    "\n",
    "    # using the re_dict to check the test set\n",
    "    def hit_rate_result(re_dict, list_walks_test):\n",
    "        total, hit = 0, 0\n",
    "\n",
    "        for walks in list_walks_test:\n",
    "\n",
    "            total += len(walks) - 2\n",
    "\n",
    "            for i in range(len(walks) -2): \n",
    "                if (walks[i],walks[i+1]) in re_dict:\n",
    "                    if walks[i+2] in re_dict[(walks[i],walks[i+1])]:\n",
    "                        hit += 1\n",
    "\n",
    "        return round(hit/total, 4)\n",
    "    \n",
    "        \n",
    "    total_hit_rate = [0, 0, 0, 0, 0] # to keep the accuracy of BN model to predict number of apps\n",
    "    \n",
    "    for i in range(len(train)): \n",
    "        \n",
    "        data_train = train[i]\n",
    "        ses3_list = list(data_train.ids.unique())\n",
    "\n",
    "        list_walks = [] # keep the list of walks training\n",
    "        for s in ses3_list:\n",
    "\n",
    "            d = data_train.loc[data_train['ids'] == s,]\n",
    "            list_walks.append(list(d['app_name']))  \n",
    "\n",
    "    \n",
    "        # dictionary to keep the result of model training\n",
    "        re_dict_l = [{(p,c): next_apps(p,c, napps) for c in list_apps for p in list_apps } for napps in range(1,6)]\n",
    "\n",
    "\n",
    "        data_test = test[i]\n",
    "        ses_list_test = list(data_test.ids.unique())\n",
    "\n",
    "        list_walks_test = [] # keep the list of walks testing\n",
    "        for s in ses_list_test:\n",
    "\n",
    "            d = data_test.loc[data_test['ids'] == s,]\n",
    "            list_walks_test.append(list(d['app_name'])) \n",
    "        \n",
    "        for i in range(5):\n",
    "\n",
    "            total_hit_rate[i] += hit_rate_result(re_dict_l[i], list_walks_test)\n",
    "\n",
    "    return [round(total_hit_rate[i] /len(train), 4) for i in range(5)]"
   ]
  },
  {
   "cell_type": "markdown",
   "metadata": {},
   "source": [
    "#### 100 sample"
   ]
  },
  {
   "cell_type": "code",
   "execution_count": 4,
   "metadata": {},
   "outputs": [
    {
     "name": "stdout",
     "output_type": "stream",
     "text": [
      "637199.7911667824\n"
     ]
    }
   ],
   "source": [
    "from random import sample, seed\n",
    "seed(123)\n",
    "sampl = sample(range(1,2010),100)\n",
    "sampl.sort()\n",
    "columns = [ 'BN1', 'BN2', 'BN3', 'BN4', 'BN5']\n",
    "Result = pd.DataFrame(index = sampl, columns = columns)\n",
    "\n",
    "import time\n",
    "start = time.time()\n",
    "\n",
    "for k, i in enumerate(sampl):\n",
    "    data = dat6.loc[dat6.newid == i, :]\n",
    "    \n",
    "    accuracy = BN(data)\n",
    "   \n",
    "    \n",
    "    for j in range(5):\n",
    "        Result.iloc[k, j] = accuracy[j]\n",
    "\n",
    "Result.to_excel('BN_100sample.xlsx')\n",
    "end = time.time()\n",
    "print(end - start)\n"
   ]
  },
  {
   "cell_type": "code",
   "execution_count": null,
   "metadata": {
    "collapsed": true
   },
   "outputs": [],
   "source": []
  }
 ],
 "metadata": {
  "kernelspec": {
   "display_name": "Python 3",
   "language": "python",
   "name": "python3"
  },
  "language_info": {
   "codemirror_mode": {
    "name": "ipython",
    "version": 3
   },
   "file_extension": ".py",
   "mimetype": "text/x-python",
   "name": "python",
   "nbconvert_exporter": "python",
   "pygments_lexer": "ipython3",
   "version": "3.6.8"
  }
 },
 "nbformat": 4,
 "nbformat_minor": 2
}
