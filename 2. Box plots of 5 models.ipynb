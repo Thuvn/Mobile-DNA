{
 "cells": [
  {
   "cell_type": "code",
   "execution_count": 6,
   "metadata": {
    "collapsed": true
   },
   "outputs": [],
   "source": [
    "import pandas as pd\n",
    "import seaborn as sns\n",
    "sns.set(style=\"whitegrid\")"
   ]
  },
  {
   "cell_type": "code",
   "execution_count": 7,
   "metadata": {
    "collapsed": true
   },
   "outputs": [],
   "source": [
    "data1 = pd.read_excel('data_apps.xlsx')"
   ]
  },
  {
   "cell_type": "code",
   "execution_count": 8,
   "metadata": {
    "collapsed": true
   },
   "outputs": [],
   "source": [
    "BN100sp = pd.read_excel('BN_100sample.xlsx')"
   ]
  },
  {
   "cell_type": "code",
   "execution_count": 9,
   "metadata": {},
   "outputs": [
    {
     "data": {
      "text/html": [
       "<div>\n",
       "<style scoped>\n",
       "    .dataframe tbody tr th:only-of-type {\n",
       "        vertical-align: middle;\n",
       "    }\n",
       "\n",
       "    .dataframe tbody tr th {\n",
       "        vertical-align: top;\n",
       "    }\n",
       "\n",
       "    .dataframe thead th {\n",
       "        text-align: right;\n",
       "    }\n",
       "</style>\n",
       "<table border=\"1\" class=\"dataframe\">\n",
       "  <thead>\n",
       "    <tr style=\"text-align: right;\">\n",
       "      <th></th>\n",
       "      <th>id</th>\n",
       "      <th>order</th>\n",
       "      <th>BN1</th>\n",
       "      <th>BN2</th>\n",
       "      <th>BN3</th>\n",
       "      <th>BN4</th>\n",
       "      <th>BN5</th>\n",
       "    </tr>\n",
       "  </thead>\n",
       "  <tbody>\n",
       "    <tr>\n",
       "      <th>0</th>\n",
       "      <td>4</td>\n",
       "      <td>1</td>\n",
       "      <td>0.4229</td>\n",
       "      <td>0.6278</td>\n",
       "      <td>0.7455</td>\n",
       "      <td>0.8180</td>\n",
       "      <td>0.8656</td>\n",
       "    </tr>\n",
       "    <tr>\n",
       "      <th>1</th>\n",
       "      <td>14</td>\n",
       "      <td>2</td>\n",
       "      <td>0.4821</td>\n",
       "      <td>0.6687</td>\n",
       "      <td>0.7709</td>\n",
       "      <td>0.8635</td>\n",
       "      <td>0.9155</td>\n",
       "    </tr>\n",
       "    <tr>\n",
       "      <th>2</th>\n",
       "      <td>26</td>\n",
       "      <td>3</td>\n",
       "      <td>0.4109</td>\n",
       "      <td>0.6521</td>\n",
       "      <td>0.7618</td>\n",
       "      <td>0.8486</td>\n",
       "      <td>0.8790</td>\n",
       "    </tr>\n",
       "    <tr>\n",
       "      <th>3</th>\n",
       "      <td>44</td>\n",
       "      <td>4</td>\n",
       "      <td>0.3933</td>\n",
       "      <td>0.5833</td>\n",
       "      <td>0.7403</td>\n",
       "      <td>0.8119</td>\n",
       "      <td>0.8637</td>\n",
       "    </tr>\n",
       "    <tr>\n",
       "      <th>4</th>\n",
       "      <td>66</td>\n",
       "      <td>5</td>\n",
       "      <td>0.3400</td>\n",
       "      <td>0.5518</td>\n",
       "      <td>0.7004</td>\n",
       "      <td>0.7631</td>\n",
       "      <td>0.8129</td>\n",
       "    </tr>\n",
       "  </tbody>\n",
       "</table>\n",
       "</div>"
      ],
      "text/plain": [
       "   id  order     BN1     BN2     BN3     BN4     BN5\n",
       "0   4      1  0.4229  0.6278  0.7455  0.8180  0.8656\n",
       "1  14      2  0.4821  0.6687  0.7709  0.8635  0.9155\n",
       "2  26      3  0.4109  0.6521  0.7618  0.8486  0.8790\n",
       "3  44      4  0.3933  0.5833  0.7403  0.8119  0.8637\n",
       "4  66      5  0.3400  0.5518  0.7004  0.7631  0.8129"
      ]
     },
     "execution_count": 9,
     "metadata": {},
     "output_type": "execute_result"
    }
   ],
   "source": [
    "BN100sp.head()"
   ]
  },
  {
   "cell_type": "code",
   "execution_count": 10,
   "metadata": {},
   "outputs": [
    {
     "data": {
      "text/html": [
       "<div>\n",
       "<style scoped>\n",
       "    .dataframe tbody tr th:only-of-type {\n",
       "        vertical-align: middle;\n",
       "    }\n",
       "\n",
       "    .dataframe tbody tr th {\n",
       "        vertical-align: top;\n",
       "    }\n",
       "\n",
       "    .dataframe thead th {\n",
       "        text-align: right;\n",
       "    }\n",
       "</style>\n",
       "<table border=\"1\" class=\"dataframe\">\n",
       "  <thead>\n",
       "    <tr style=\"text-align: right;\">\n",
       "      <th></th>\n",
       "      <th>BM1</th>\n",
       "      <th>BM2</th>\n",
       "      <th>BM3</th>\n",
       "      <th>BM4</th>\n",
       "      <th>BM5</th>\n",
       "      <th>LU1</th>\n",
       "      <th>LU2</th>\n",
       "      <th>LU3</th>\n",
       "      <th>LU4</th>\n",
       "      <th>LU5</th>\n",
       "      <th>LU2_1</th>\n",
       "      <th>LU2_2</th>\n",
       "      <th>LU2_3</th>\n",
       "      <th>LU2_4</th>\n",
       "      <th>LU2_5</th>\n",
       "      <th>id</th>\n",
       "    </tr>\n",
       "  </thead>\n",
       "  <tbody>\n",
       "    <tr>\n",
       "      <th>0</th>\n",
       "      <td>0.3807</td>\n",
       "      <td>0.6894</td>\n",
       "      <td>0.9141</td>\n",
       "      <td>0.9424</td>\n",
       "      <td>0.9594</td>\n",
       "      <td>0.5409</td>\n",
       "      <td>0.7852</td>\n",
       "      <td>0.9268</td>\n",
       "      <td>0.9446</td>\n",
       "      <td>0.9619</td>\n",
       "      <td>0.7587</td>\n",
       "      <td>0.8864</td>\n",
       "      <td>0.9476</td>\n",
       "      <td>0.9615</td>\n",
       "      <td>0.9695</td>\n",
       "      <td>1</td>\n",
       "    </tr>\n",
       "    <tr>\n",
       "      <th>1</th>\n",
       "      <td>0.3799</td>\n",
       "      <td>0.5147</td>\n",
       "      <td>0.6561</td>\n",
       "      <td>0.6959</td>\n",
       "      <td>0.7055</td>\n",
       "      <td>0.4239</td>\n",
       "      <td>0.6164</td>\n",
       "      <td>0.7417</td>\n",
       "      <td>0.7433</td>\n",
       "      <td>0.7943</td>\n",
       "      <td>0.4051</td>\n",
       "      <td>0.6230</td>\n",
       "      <td>0.6665</td>\n",
       "      <td>0.6800</td>\n",
       "      <td>0.7114</td>\n",
       "      <td>2</td>\n",
       "    </tr>\n",
       "    <tr>\n",
       "      <th>2</th>\n",
       "      <td>0.4498</td>\n",
       "      <td>0.8149</td>\n",
       "      <td>0.8843</td>\n",
       "      <td>0.9079</td>\n",
       "      <td>0.9465</td>\n",
       "      <td>0.4981</td>\n",
       "      <td>0.8521</td>\n",
       "      <td>0.9101</td>\n",
       "      <td>0.9446</td>\n",
       "      <td>0.9693</td>\n",
       "      <td>0.5319</td>\n",
       "      <td>0.8115</td>\n",
       "      <td>0.8792</td>\n",
       "      <td>0.9094</td>\n",
       "      <td>0.9383</td>\n",
       "      <td>3</td>\n",
       "    </tr>\n",
       "    <tr>\n",
       "      <th>3</th>\n",
       "      <td>0.2424</td>\n",
       "      <td>0.5240</td>\n",
       "      <td>0.6384</td>\n",
       "      <td>0.7491</td>\n",
       "      <td>0.8125</td>\n",
       "      <td>0.4285</td>\n",
       "      <td>0.6253</td>\n",
       "      <td>0.7364</td>\n",
       "      <td>0.8090</td>\n",
       "      <td>0.8560</td>\n",
       "      <td>0.4377</td>\n",
       "      <td>0.6021</td>\n",
       "      <td>0.6879</td>\n",
       "      <td>0.7460</td>\n",
       "      <td>0.7916</td>\n",
       "      <td>4</td>\n",
       "    </tr>\n",
       "    <tr>\n",
       "      <th>4</th>\n",
       "      <td>0.2252</td>\n",
       "      <td>0.4411</td>\n",
       "      <td>0.5821</td>\n",
       "      <td>0.6819</td>\n",
       "      <td>0.7491</td>\n",
       "      <td>0.4031</td>\n",
       "      <td>0.5607</td>\n",
       "      <td>0.6797</td>\n",
       "      <td>0.7778</td>\n",
       "      <td>0.8067</td>\n",
       "      <td>0.3919</td>\n",
       "      <td>0.5342</td>\n",
       "      <td>0.6280</td>\n",
       "      <td>0.6669</td>\n",
       "      <td>0.7052</td>\n",
       "      <td>5</td>\n",
       "    </tr>\n",
       "  </tbody>\n",
       "</table>\n",
       "</div>"
      ],
      "text/plain": [
       "      BM1     BM2     BM3     BM4     BM5     LU1     LU2     LU3     LU4  \\\n",
       "0  0.3807  0.6894  0.9141  0.9424  0.9594  0.5409  0.7852  0.9268  0.9446   \n",
       "1  0.3799  0.5147  0.6561  0.6959  0.7055  0.4239  0.6164  0.7417  0.7433   \n",
       "2  0.4498  0.8149  0.8843  0.9079  0.9465  0.4981  0.8521  0.9101  0.9446   \n",
       "3  0.2424  0.5240  0.6384  0.7491  0.8125  0.4285  0.6253  0.7364  0.8090   \n",
       "4  0.2252  0.4411  0.5821  0.6819  0.7491  0.4031  0.5607  0.6797  0.7778   \n",
       "\n",
       "      LU5   LU2_1   LU2_2   LU2_3   LU2_4   LU2_5  id  \n",
       "0  0.9619  0.7587  0.8864  0.9476  0.9615  0.9695   1  \n",
       "1  0.7943  0.4051  0.6230  0.6665  0.6800  0.7114   2  \n",
       "2  0.9693  0.5319  0.8115  0.8792  0.9094  0.9383   3  \n",
       "3  0.8560  0.4377  0.6021  0.6879  0.7460  0.7916   4  \n",
       "4  0.8067  0.3919  0.5342  0.6280  0.6669  0.7052   5  "
      ]
     },
     "execution_count": 10,
     "metadata": {},
     "output_type": "execute_result"
    }
   ],
   "source": [
    "data1.head()"
   ]
  },
  {
   "cell_type": "code",
   "execution_count": 34,
   "metadata": {
    "collapsed": true
   },
   "outputs": [],
   "source": [
    "MFU = data1.loc[:, ['BM1', 'BM2', 'BM3','BM5']]"
   ]
  },
  {
   "cell_type": "code",
   "execution_count": 35,
   "metadata": {
    "collapsed": true
   },
   "outputs": [],
   "source": [
    "MFU.columns = ['1app', '2apps', '3apps', '5apps']"
   ]
  },
  {
   "cell_type": "code",
   "execution_count": 36,
   "metadata": {
    "collapsed": true
   },
   "outputs": [],
   "source": [
    "MFU['model'] = 'MFU'"
   ]
  },
  {
   "cell_type": "code",
   "execution_count": 37,
   "metadata": {
    "collapsed": true
   },
   "outputs": [],
   "source": [
    "LU = data1.loc[:, ['LU1', 'LU2', 'LU3', 'LU5']]"
   ]
  },
  {
   "cell_type": "code",
   "execution_count": 38,
   "metadata": {
    "collapsed": true
   },
   "outputs": [],
   "source": [
    "LU.columns = ['1app', '2apps', '3apps', '5apps']"
   ]
  },
  {
   "cell_type": "code",
   "execution_count": 39,
   "metadata": {
    "collapsed": true
   },
   "outputs": [],
   "source": [
    "LU['model'] = 'LU'"
   ]
  },
  {
   "cell_type": "code",
   "execution_count": 40,
   "metadata": {
    "collapsed": true
   },
   "outputs": [],
   "source": [
    "LU2 = data1.loc[:, ['LU2_1', 'LU2_2', 'LU2_3', 'LU2_5']]"
   ]
  },
  {
   "cell_type": "code",
   "execution_count": 41,
   "metadata": {
    "collapsed": true
   },
   "outputs": [],
   "source": [
    "LU2.columns = ['1app', '2apps', '3apps', '5apps']"
   ]
  },
  {
   "cell_type": "code",
   "execution_count": 42,
   "metadata": {
    "collapsed": true
   },
   "outputs": [],
   "source": [
    "LU2['model'] = 'LU-2'"
   ]
  },
  {
   "cell_type": "code",
   "execution_count": 43,
   "metadata": {
    "collapsed": true
   },
   "outputs": [],
   "source": [
    "LN = BN100sp.loc[:, ['BN1', 'BN2', 'BN3', 'BN5']]"
   ]
  },
  {
   "cell_type": "code",
   "execution_count": 44,
   "metadata": {
    "collapsed": true
   },
   "outputs": [],
   "source": [
    "LN.columns = ['1app', '2apps', '3apps', '5apps']"
   ]
  },
  {
   "cell_type": "code",
   "execution_count": 45,
   "metadata": {
    "collapsed": true
   },
   "outputs": [],
   "source": [
    "LN['model'] = 'LN'"
   ]
  },
  {
   "cell_type": "code",
   "execution_count": 46,
   "metadata": {
    "collapsed": true
   },
   "outputs": [],
   "source": [
    "LUT = pd.read_excel('LUT_result.xlsx')"
   ]
  },
  {
   "cell_type": "code",
   "execution_count": 47,
   "metadata": {
    "collapsed": true
   },
   "outputs": [],
   "source": [
    "LUT = LUT.iloc[:, [0,1,2,4]]"
   ]
  },
  {
   "cell_type": "code",
   "execution_count": 48,
   "metadata": {
    "collapsed": true
   },
   "outputs": [],
   "source": [
    "LUT.columns = ['1app', '2apps', '3apps', '5apps']"
   ]
  },
  {
   "cell_type": "code",
   "execution_count": 49,
   "metadata": {
    "collapsed": true
   },
   "outputs": [],
   "source": [
    "LUT['model'] = 'LUT'"
   ]
  },
  {
   "cell_type": "code",
   "execution_count": 50,
   "metadata": {
    "collapsed": true
   },
   "outputs": [],
   "source": [
    "frames = [MFU, LU, LU2, LUT, LN]\n",
    "\n",
    "result = pd.concat(frames)\n"
   ]
  },
  {
   "cell_type": "code",
   "execution_count": 31,
   "metadata": {},
   "outputs": [
    {
     "data": {
      "image/png": "[encoded data removed]",
      "text/plain": [
       "<Figure size 432x288 with 1 Axes>"
      ]
     },
     "metadata": {},
     "output_type": "display_data"
    }
   ],
   "source": [
    "ax = sns.boxplot(x=\"model\", y=\"1app\", data=result)"
   ]
  },
  {
   "cell_type": "code",
   "execution_count": 32,
   "metadata": {},
   "outputs": [
    {
     "data": {
      "image/png": "[encoded data removed]",
      "text/plain": [
       "<Figure size 432x288 with 1 Axes>"
      ]
     },
     "metadata": {},
     "output_type": "display_data"
    }
   ],
   "source": [
    "ax = sns.boxplot(x=\"model\", y=\"2apps\", data=result)"
   ]
  },
  {
   "cell_type": "code",
   "execution_count": 33,
   "metadata": {},
   "outputs": [
    {
     "data": {
      "image/png": "[encoded data removed]",
      "text/plain": [
       "<Figure size 432x288 with 1 Axes>"
      ]
     },
     "metadata": {},
     "output_type": "display_data"
    }
   ],
   "source": [
    "ax = sns.boxplot(x=\"model\", y=\"3apps\", data=result)"
   ]
  },
  {
   "cell_type": "code",
   "execution_count": 51,
   "metadata": {},
   "outputs": [
    {
     "data": {
      "image/png": "[encoded data removed]",
      "text/plain": [
       "<Figure size 432x288 with 1 Axes>"
      ]
     },
     "metadata": {},
     "output_type": "display_data"
    }
   ],
   "source": [
    "ax = sns.boxplot(x=\"model\", y=\"5apps\", data=result)"
   ]
  },
  {
   "cell_type": "code",
   "execution_count": null,
   "metadata": {
    "collapsed": true
   },
   "outputs": [],
   "source": []
  }
 ],
 "metadata": {
  "kernelspec": {
   "display_name": "Python 3",
   "language": "python",
   "name": "python3"
  },
  "language_info": {
   "codemirror_mode": {
    "name": "ipython",
    "version": 3
   },
   "file_extension": ".py",
   "mimetype": "text/x-python",
   "name": "python",
   "nbconvert_exporter": "python",
   "pygments_lexer": "ipython3",
   "version": "3.6.8"
  }
 },
 "nbformat": 4,
 "nbformat_minor": 2
}
