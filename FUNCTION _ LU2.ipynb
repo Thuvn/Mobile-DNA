{
 "cells": [
  {
   "cell_type": "markdown",
   "metadata": {},
   "source": [
    "### 1. Reading data"
   ]
  },
  {
   "cell_type": "code",
   "execution_count": 1,
   "metadata": {
    "collapsed": true
   },
   "outputs": [],
   "source": [
    "import pandas as pd"
   ]
  },
  {
   "cell_type": "code",
   "execution_count": 2,
   "metadata": {
    "collapsed": true
   },
   "outputs": [],
   "source": [
    "dat6 = pd.read_csv('dat6.csv')"
   ]
  },
  {
   "cell_type": "code",
   "execution_count": 14,
   "metadata": {
    "collapsed": true
   },
   "outputs": [],
   "source": [
    "# an example data of a user (id = 1)\n",
    "i = 1\n",
    "data = dat6.loc[dat6.newid == i, :]"
   ]
  },
  {
   "cell_type": "markdown",
   "metadata": {},
   "source": [
    "### 2. Function calculate accuracy after cross validation"
   ]
  },
  {
   "cell_type": "code",
   "execution_count": 11,
   "metadata": {
    "collapsed": true
   },
   "outputs": [],
   "source": [
    "def LU2(data):\n",
    "    \n",
    "    from random import sample, seed\n",
    "    \n",
    "    # 1. Prepare train and test datasets\n",
    "    \n",
    "    data1 = data.sort_values('startTimeMillis')\n",
    "    data1.date = data1.date.astype(int)\n",
    "    \n",
    "    data2 = data1.groupby('ids').count()\n",
    "    data2.reset_index(level = 0, inplace = True)\n",
    "    \n",
    "    ses3 = data2.loc[data2.startTime >= 3,:]\n",
    "    ses3_set = set(ses3.ids)\n",
    "    data3s = data1.loc[data1.ids.isin(ses3_set)]\n",
    "    \n",
    "    list_apps = list(data3s.app_name.unique())\n",
    "    \n",
    "    ### Cross validation k = 5\n",
    "    n = len(ses3_set)\n",
    "    k=5\n",
    "    m = n//k\n",
    "    \n",
    "    train = []\n",
    "    test = []\n",
    "    left = ses3_set.copy()\n",
    "\n",
    "    for i in range(5):\n",
    "        if i < 4:\n",
    "            seed(123)\n",
    "            tst = set(sample(left, m))\n",
    "            trn = ses3_set - tst\n",
    "\n",
    "            train_data = data3s.loc[data3s.ids.isin(trn)]\n",
    "            test_data = data3s.loc[data3s.ids.isin(tst)]\n",
    "\n",
    "            train.append(train_data)\n",
    "            test.append(test_data)\n",
    "\n",
    "            left -= tst\n",
    "        else:\n",
    "            tst = left\n",
    "            trn = ses3_set - tst\n",
    "\n",
    "            train_data = data3s.loc[data3s.ids.isin(trn)]\n",
    "            test_data = data3s.loc[data3s.ids.isin(tst)]\n",
    "\n",
    "            train.append(train_data)\n",
    "            test.append(test_data)\n",
    "        \n",
    "    # 2. Functions needed \n",
    "    \n",
    "    # function count the walks from a, b to c in the list_walks\n",
    "    def count_walks(a, b, c, list_walks):\n",
    "        r = 0\n",
    "        for walks in list_walks:\n",
    "            n = len(walks)\n",
    "            for i in range(n-2):           \n",
    "                if (walks[i] == a) & (walks[i+1] == b) & (walks[i+2] == c):\n",
    "                    r +=1\n",
    "        return r\n",
    "\n",
    "\n",
    "    # function predict the next app with the highest counting\n",
    "    def next_apps(a, b, list_apps, list_walks, napps):\n",
    "\n",
    "        total_walks = [count_walks(a, b, c, list_walks) for c in list_apps]\n",
    "\n",
    "        dt = pd.DataFrame(\n",
    "        {'next_app': list_apps,\n",
    "         'total_walks': total_walks\n",
    "         })\n",
    "        dt = dt.sort_values('total_walks', ascending=False)\n",
    "\n",
    "        if len(dt) == 0:\n",
    "            return []   \n",
    "        elif len(dt) == 1:\n",
    "            result = [dt.iloc[0,0]]\n",
    "        elif len(dt) == 2:\n",
    "            result = list(dt.iloc[:2,0])\n",
    "        elif len(dt) == 3:\n",
    "            result = list(dt.iloc[:3,0])\n",
    "        elif len(dt) == 4:\n",
    "            result = list(dt.iloc[:4,0])\n",
    "        else:\n",
    "            result = list(dt.iloc[:5,0])\n",
    "\n",
    "        ind = min(napps, len(result))\n",
    "\n",
    "        return result[:ind]\n",
    "\n",
    "\n",
    "    # using the re_dict to check the test set\n",
    "    def hit_rate_result(re_dict, list_walks_test):\n",
    "        total, hit = 0, 0\n",
    "\n",
    "        for walks in list_walks_test:\n",
    "\n",
    "            total += len(walks) - 2\n",
    "\n",
    "            for i in range(len(walks) -2): \n",
    "                if (walks[i],walks[i+1]) in re_dict:\n",
    "                    if walks[i+2] in re_dict[(walks[i],walks[i+1])]:\n",
    "                        hit += 1\n",
    "\n",
    "        return round(hit/total, 4)\n",
    "\n",
    "\n",
    "    # 3. Prediction Accuracy\n",
    "\n",
    "    total_hit_rate = [0, 0, 0, 0, 0] # to keep the accuracy of LU1 model to predict number of apps\n",
    "    \n",
    "    for i in range(len(train)): \n",
    "        \n",
    "        data_train = train[i]\n",
    "        ses3_list = list(data_train.ids.unique())\n",
    "\n",
    "        list_walks = [] # keep the list of walks training\n",
    "        for s in ses3_list:\n",
    "\n",
    "            d = data_train.loc[data_train['ids'] == s,]\n",
    "            list_walks.append(list(d['app_name']))  \n",
    "\n",
    "            \n",
    "            # dictionary to keep the result of model training\n",
    "        re_dict_l = [{(a,b): next_apps(a,b, list_apps, list_walks, napps) for a in list_apps for b in list_apps }\n",
    "                     for napps in range(1,6)]\n",
    "\n",
    "\n",
    "        data_test = test[i]\n",
    "        ses_list_test = list(data_test.ids.unique())\n",
    "\n",
    "        list_walks_test = [] # keep the list of walks testing\n",
    "        for s in ses_list_test:\n",
    "\n",
    "            d = data_test.loc[data_test['ids'] == s,]\n",
    "            list_walks_test.append(list(d['app_name']))   \n",
    "                \n",
    "        for z in range(5):\n",
    "            total_hit_rate[z] += hit_rate_result(re_dict_l[z], list_walks_test)\n",
    "\n",
    "            \n",
    "    return [round(total_hit_rate[i] /len(train), 4) for i in range(5)]"
   ]
  },
  {
   "cell_type": "markdown",
   "metadata": {},
   "source": [
    "### Test with id = 1"
   ]
  },
  {
   "cell_type": "code",
   "execution_count": 15,
   "metadata": {},
   "outputs": [
    {
     "name": "stdout",
     "output_type": "stream",
     "text": [
      "187.91833806037903\n"
     ]
    }
   ],
   "source": [
    "import time\n",
    "start = time.time() \n",
    "\n",
    "accuracy = LU2(data)\n",
    "\n",
    "end = time.time() \n",
    "print(end - start) "
   ]
  },
  {
   "cell_type": "code",
   "execution_count": 16,
   "metadata": {},
   "outputs": [
    {
     "data": {
      "text/plain": [
       "[0.7519, 0.8823, 0.9471, 0.9634, 0.9681]"
      ]
     },
     "execution_count": 16,
     "metadata": {},
     "output_type": "execute_result"
    }
   ],
   "source": [
    "accuracy"
   ]
  },
  {
   "cell_type": "markdown",
   "metadata": {},
   "source": [
    "### 3. Run and save result"
   ]
  },
  {
   "cell_type": "code",
   "execution_count": null,
   "metadata": {
    "collapsed": true
   },
   "outputs": [],
   "source": [
    "import time\n",
    "start = time.time() \n",
    "\n",
    "columns = [ 'LU2_1', 'LU2_2', 'LU2_3', 'LU2_4', 'LU2_5']\n",
    "Result = pd.DataFrame(index = range(1,2010), columns = columns)\n",
    "\n",
    "import time\n",
    "start = time.time()\n",
    "\n",
    "for i in range(1,2010):\n",
    "    data = dat6.loc[dat6.newid == i, :]\n",
    "    \n",
    "    accuracy = LU2(data)\n",
    "     \n",
    "    for j in range(5):\n",
    "        Result.iloc[i-1, j] = accuracy[j]\n",
    "\n",
    "Result.to_excel('LU2_2009.xlsx')\n",
    "\n",
    "end = time.time() \n",
    "print(end - start) "
   ]
  }
 ],
 "metadata": {
  "kernelspec": {
   "display_name": "Python 3",
   "language": "python",
   "name": "python3"
  },
  "language_info": {
   "codemirror_mode": {
    "name": "ipython",
    "version": 3
   },
   "file_extension": ".py",
   "mimetype": "text/x-python",
   "name": "python",
   "nbconvert_exporter": "python",
   "pygments_lexer": "ipython3",
   "version": "3.6.8"
  }
 },
 "nbformat": 4,
 "nbformat_minor": 2
}
